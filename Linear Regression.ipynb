{
 "cells": [
  {
   "cell_type": "markdown",
   "id": "787f9126",
   "metadata": {},
   "source": [
    "# NAME - NAINA\n",
    "# GRIP- THE SPARKS FOUNDATION\n",
    "# DATA SCIENCE AND BUSINESS ANALYTICS INTERN\n",
    "# TASK 1:PREDICTION USING SUPERVISED ML"
   ]
  },
  {
   "cell_type": "code",
   "execution_count": 1,
   "id": "94c242fb",
   "metadata": {},
   "outputs": [],
   "source": [
    "#including library\n",
    "import pandas as pd\n",
    "import numpy as np\n",
    "import statsmodels.api as sm\n",
    "import seaborn as sns\n",
    "sns.set()\n",
    "import matplotlib.pyplot as plt \n",
    "%matplotlib inline"
   ]
  },
  {
   "cell_type": "code",
   "execution_count": 2,
   "id": "1580d681",
   "metadata": {},
   "outputs": [
    {
     "data": {
      "text/html": [
       "<div>\n",
       "<style scoped>\n",
       "    .dataframe tbody tr th:only-of-type {\n",
       "        vertical-align: middle;\n",
       "    }\n",
       "\n",
       "    .dataframe tbody tr th {\n",
       "        vertical-align: top;\n",
       "    }\n",
       "\n",
       "    .dataframe thead th {\n",
       "        text-align: right;\n",
       "    }\n",
       "</style>\n",
       "<table border=\"1\" class=\"dataframe\">\n",
       "  <thead>\n",
       "    <tr style=\"text-align: right;\">\n",
       "      <th></th>\n",
       "      <th>Hours</th>\n",
       "      <th>Scores</th>\n",
       "    </tr>\n",
       "  </thead>\n",
       "  <tbody>\n",
       "    <tr>\n",
       "      <th>0</th>\n",
       "      <td>2.5</td>\n",
       "      <td>21</td>\n",
       "    </tr>\n",
       "    <tr>\n",
       "      <th>1</th>\n",
       "      <td>5.1</td>\n",
       "      <td>47</td>\n",
       "    </tr>\n",
       "    <tr>\n",
       "      <th>2</th>\n",
       "      <td>3.2</td>\n",
       "      <td>27</td>\n",
       "    </tr>\n",
       "    <tr>\n",
       "      <th>3</th>\n",
       "      <td>8.5</td>\n",
       "      <td>75</td>\n",
       "    </tr>\n",
       "    <tr>\n",
       "      <th>4</th>\n",
       "      <td>3.5</td>\n",
       "      <td>30</td>\n",
       "    </tr>\n",
       "  </tbody>\n",
       "</table>\n",
       "</div>"
      ],
      "text/plain": [
       "   Hours  Scores\n",
       "0    2.5      21\n",
       "1    5.1      47\n",
       "2    3.2      27\n",
       "3    8.5      75\n",
       "4    3.5      30"
      ]
     },
     "execution_count": 2,
     "metadata": {},
     "output_type": "execute_result"
    }
   ],
   "source": [
    "data = pd.read_csv('http://bit.ly/w-data') #Importing Dataset\n",
    "data.head(5)"
   ]
  },
  {
   "cell_type": "markdown",
   "id": "eb19d8af",
   "metadata": {},
   "source": [
    "# Checking the Correlation between the variables\n",
    "Representing the correlation using heatmap\n"
   ]
  },
  {
   "cell_type": "code",
   "execution_count": 3,
   "id": "468d45ed",
   "metadata": {},
   "outputs": [
    {
     "data": {
      "image/png": "[encoded data removed]",
      "text/plain": [
       "<Figure size 432x288 with 2 Axes>"
      ]
     },
     "metadata": {
      "needs_background": "light"
     },
     "output_type": "display_data"
    }
   ],
   "source": [
    "#Observing the relationship between no of hours studied and score percentage using correlation\n",
    "correlation_matrix = data.corr()\n",
    "correlation_matrix\n",
    "sns.heatmap(data=correlation_matrix, cmap=\"Blues\", annot=True)\n",
    "plt.show()"
   ]
  },
  {
   "cell_type": "code",
   "execution_count": 4,
   "id": "9ce009d2",
   "metadata": {},
   "outputs": [
    {
     "data": {
      "image/png": "[encoded data removed]",
      "text/plain": [
       "<Figure size 432x288 with 1 Axes>"
      ]
     },
     "metadata": {
      "needs_background": "light"
     },
     "output_type": "display_data"
    }
   ],
   "source": [
    "# Plotting the data points\n",
    "data.plot(x='Hours', y='Scores', style='x')  \n",
    "plt.title('Hours vs Percentage')  \n",
    "plt.xlabel('Hours Studied')  \n",
    "plt.ylabel('Percentage Score')  \n",
    "plt.show()"
   ]
  },
  {
   "cell_type": "markdown",
   "id": "a2396d77",
   "metadata": {},
   "source": [
    "There is  positive linear relationship between scores and hours studied"
   ]
  },
  {
   "cell_type": "markdown",
   "id": "d2255a51",
   "metadata": {},
   "source": [
    "# DATA PREPROCESSING"
   ]
  },
  {
   "cell_type": "markdown",
   "id": "26784cb1",
   "metadata": {},
   "source": [
    "Assigning the attributes to X and labels to y"
   ]
  },
  {
   "cell_type": "code",
   "execution_count": 6,
   "id": "dd56f3a0",
   "metadata": {},
   "outputs": [],
   "source": [
    "#Assigning the attributes to X and labels to y\n",
    "X = data.iloc[:,:-1].values\n",
    "y = data.iloc[:,1].values"
   ]
  },
  {
   "cell_type": "markdown",
   "id": "483a4d2f",
   "metadata": {},
   "source": [
    " MODEL TRAINING"
   ]
  },
  {
   "cell_type": "code",
   "execution_count": 8,
   "id": "3e2b0085",
   "metadata": {},
   "outputs": [
    {
     "data": {
      "text/plain": [
       "LinearRegression()"
      ]
     },
     "execution_count": 8,
     "metadata": {},
     "output_type": "execute_result"
    }
   ],
   "source": [
    "#Splitting the dataset for training and testing of model\n",
    "from sklearn.model_selection import train_test_split\n",
    "X_train,X_test,y_train,y_test=train_test_split(X,y,test_size=0.2, random_state=0)\n",
    "\n",
    "#Training the algorithm\n",
    "from sklearn.linear_model import LinearRegression\n",
    "model=LinearRegression()\n",
    "model.fit(X_train.reshape(-1,1),y_train)\n"
   ]
  },
  {
   "cell_type": "markdown",
   "id": "627e1332",
   "metadata": {},
   "source": [
    "REGRESSION LINE - Plotting for Test Data"
   ]
  },
  {
   "cell_type": "code",
   "execution_count": 9,
   "id": "1c0e5d12",
   "metadata": {},
   "outputs": [
    {
     "data": {
      "image/png": "[encoded data removed]",
      "text/plain": [
       "<Figure size 648x504 with 1 Axes>"
      ]
     },
     "metadata": {
      "needs_background": "light"
     },
     "output_type": "display_data"
    }
   ],
   "source": [
    "line = model.coef_ * X + model.intercept_\n",
    "plt.figure(figsize=(9,7))\n",
    "plt.scatter(X,y)\n",
    "plt.plot(X,line,color = 'red')\n",
    "plt.title(\"Regression Line\")\n",
    "plt.xlabel('Hours Studied')  \n",
    "plt.ylabel('Score') \n",
    "plt.show()"
   ]
  },
  {
   "cell_type": "markdown",
   "id": "53fe0223",
   "metadata": {},
   "source": [
    "MAKING PREDICTION"
   ]
  },
  {
   "cell_type": "code",
   "execution_count": 10,
   "id": "baf11dd5",
   "metadata": {},
   "outputs": [],
   "source": [
    "predict = model.predict(X_test)"
   ]
  },
  {
   "cell_type": "markdown",
   "id": "5bd7e17f",
   "metadata": {},
   "source": [
    "COMPARING GIVEN LEVEL AND PREDICTED LEVEL"
   ]
  },
  {
   "cell_type": "code",
   "execution_count": 11,
   "id": "54bbdac4",
   "metadata": {},
   "outputs": [
    {
     "data": {
      "text/html": [
       "<div>\n",
       "<style scoped>\n",
       "    .dataframe tbody tr th:only-of-type {\n",
       "        vertical-align: middle;\n",
       "    }\n",
       "\n",
       "    .dataframe tbody tr th {\n",
       "        vertical-align: top;\n",
       "    }\n",
       "\n",
       "    .dataframe thead th {\n",
       "        text-align: right;\n",
       "    }\n",
       "</style>\n",
       "<table border=\"1\" class=\"dataframe\">\n",
       "  <thead>\n",
       "    <tr style=\"text-align: right;\">\n",
       "      <th></th>\n",
       "      <th>Actual</th>\n",
       "      <th>Predicted</th>\n",
       "    </tr>\n",
       "  </thead>\n",
       "  <tbody>\n",
       "    <tr>\n",
       "      <th>0</th>\n",
       "      <td>20</td>\n",
       "      <td>16.884145</td>\n",
       "    </tr>\n",
       "    <tr>\n",
       "      <th>1</th>\n",
       "      <td>27</td>\n",
       "      <td>33.732261</td>\n",
       "    </tr>\n",
       "    <tr>\n",
       "      <th>2</th>\n",
       "      <td>69</td>\n",
       "      <td>75.357018</td>\n",
       "    </tr>\n",
       "    <tr>\n",
       "      <th>3</th>\n",
       "      <td>30</td>\n",
       "      <td>26.794801</td>\n",
       "    </tr>\n",
       "    <tr>\n",
       "      <th>4</th>\n",
       "      <td>62</td>\n",
       "      <td>60.491033</td>\n",
       "    </tr>\n",
       "  </tbody>\n",
       "</table>\n",
       "</div>"
      ],
      "text/plain": [
       "   Actual  Predicted\n",
       "0      20  16.884145\n",
       "1      27  33.732261\n",
       "2      69  75.357018\n",
       "3      30  26.794801\n",
       "4      62  60.491033"
      ]
     },
     "execution_count": 11,
     "metadata": {},
     "output_type": "execute_result"
    }
   ],
   "source": [
    "df = pd.DataFrame({'Actual': y_test, 'Predicted': predict}) \n",
    "df"
   ]
  },
  {
   "cell_type": "markdown",
   "id": "f38621de",
   "metadata": {},
   "source": [
    "# Sample Data Run - Testing the model"
   ]
  },
  {
   "cell_type": "code",
   "execution_count": 12,
   "id": "de088b4c",
   "metadata": {},
   "outputs": [
    {
     "name": "stdout",
     "output_type": "stream",
     "text": [
      "No of Hours = 9.25\n",
      "Predicted Score = 93.69173248737538\n"
     ]
    }
   ],
   "source": [
    "hours = 9.25  #Provided Value\n",
    "test = np.array([hours])  # convert to a numpy array\n",
    "test = test.reshape(-1, 1)\n",
    "own_pred = model.predict(test)\n",
    "print(\"No of Hours = {}\".format(hours))\n",
    "print(\"Predicted Score = {}\".format(own_pred[0]))"
   ]
  },
  {
   "cell_type": "markdown",
   "id": "c8f6fefc",
   "metadata": {},
   "source": [
    "# Evaluation of Model"
   ]
  },
  {
   "cell_type": "code",
   "execution_count": 13,
   "id": "77cc234d",
   "metadata": {},
   "outputs": [
    {
     "name": "stdout",
     "output_type": "stream",
     "text": [
      "Mean Absolute Error: 4.183859899002975\n",
      "Root Mean Square Error: 4.6474476121003665\n",
      "R-Square: 0.9454906892105356\n"
     ]
    }
   ],
   "source": [
    "# MODEL EVALUATION\n",
    "from sklearn.metrics import mean_squared_error,r2_score,mean_absolute_error\n",
    "\n",
    "mse = (mean_absolute_error(y_test, predict))\n",
    "print(\"Mean Absolute Error:\",mse)\n",
    "\n",
    "rmse = (np.sqrt(mean_squared_error(y_test,predict)))\n",
    "print(\"Root Mean Square Error:\",rmse)\n",
    "\n",
    "# To find coefficient of determination\n",
    "r2 =  r2_score(y_test, predict)\n",
    "print(\"R-Square:\",r2)"
   ]
  },
  {
   "cell_type": "markdown",
   "id": "957346dd",
   "metadata": {},
   "source": [
    "Conclusion: From the R-Square value we can identify a 94% accuracy for our prediction model"
   ]
  }
 ],
 "metadata": {
  "kernelspec": {
   "display_name": "Python 3 (ipykernel)",
   "language": "python",
   "name": "python3"
  },
  "language_info": {
   "codemirror_mode": {
    "name": "ipython",
    "version": 3
   },
   "file_extension": ".py",
   "mimetype": "text/x-python",
   "name": "python",
   "nbconvert_exporter": "python",
   "pygments_lexer": "ipython3",
   "version": "3.9.7"
  }
 },
 "nbformat": 4,
 "nbformat_minor": 5
}
